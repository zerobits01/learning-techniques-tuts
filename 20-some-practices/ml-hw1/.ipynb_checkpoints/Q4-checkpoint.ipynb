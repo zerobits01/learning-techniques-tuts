{
 "cells": [
  {
   "cell_type": "markdown",
   "id": "c82b4892-22a2-44c4-8db9-ff9168d932ab",
   "metadata": {},
   "source": [
    "# "
   ]
  },
  {
   "cell_type": "code",
   "execution_count": 52,
   "id": "a39a7151-ac06-4f0e-bc1c-0326da1b0dac",
   "metadata": {},
   "outputs": [
    {
     "name": "stdout",
     "output_type": "stream",
     "text": [
      "Accuracy: 0.6778169014084507\n",
      "Accuracy 1: 0.0\n"
     ]
    },
    {
     "name": "stderr",
     "output_type": "stream",
     "text": [
      "/tmp/ipykernel_12205/3738241316.py:46: DeprecationWarning: elementwise comparison failed; this will raise an error in the future.\n",
      "  return np.mean(y_true == y_pred)\n"
     ]
    },
    {
     "name": "stdout",
     "output_type": "stream",
     "text": [
      "Accuracy 2: 0.0\n",
      "Accuracy 3: 0.0\n",
      "Accuracy 4: 0.0\n",
      "Accuracy 5: 0.0\n"
     ]
    }
   ],
   "source": [
    "import numpy as np\n",
    "import pandas as pd\n",
    "from sklearn.preprocessing import StandardScaler\n",
    "\n",
    "class KMeansCluster:\n",
    "    def __init__(self, k, tol, max_iter):\n",
    "        self.k = k\n",
    "        self.tol = tol\n",
    "        self.max_iter = max_iter\n",
    "        self.centroids = None\n",
    "        self.clusters = None\n",
    "        self.sse = None\n",
    "\n",
    "    def fit(self, X, init_mu=None):\n",
    "        if init_mu is None:\n",
    "            self.centroids = X.sample(self.k).values\n",
    "        else:\n",
    "            self.centroids = init_mu\n",
    "        for i in range(self.max_iter):\n",
    "            self.clusters = {}\n",
    "            for j in range(self.k):\n",
    "                self.clusters[j] = []\n",
    "            for x in X.values:\n",
    "                distances = [np.linalg.norm(x - c) for c in self.centroids]\n",
    "                cluster = distances.index(min(distances))\n",
    "                self.clusters[cluster].append(x)\n",
    "            prev_centroids = self.centroids.copy()\n",
    "            for cluster in self.clusters:\n",
    "                self.centroids[cluster] = np.average(self.clusters[cluster], axis=0)\n",
    "            if np.linalg.norm(self.centroids - prev_centroids) < self.tol:\n",
    "                break\n",
    "        self.sse = 0\n",
    "        for cluster in self.clusters:\n",
    "            for x in self.clusters[cluster]:\n",
    "                self.sse += np.linalg.norm(x - self.centroids[cluster]) ** 2\n",
    "\n",
    "    def predict(self, X):\n",
    "        y_pred = []\n",
    "        for x in X:\n",
    "            distances = [np.linalg.norm(x - c) for c in self.centroids]\n",
    "            cluster = distances.index(min(distances))\n",
    "            y_pred.append(cluster)\n",
    "        return y_pred\n",
    "\n",
    "    def accuracy(self, y_true, y_pred):\n",
    "        return np.mean(y_true == y_pred)\n",
    "\n",
    "# Load data\n",
    "data = pd.read_csv('./Q_4/breast_data.csv')\n",
    "labels = pd.read_csv('./Q_4/breast_labels.csv')\n",
    "\n",
    "# Scale data\n",
    "scaler = StandardScaler()\n",
    "X = scaler.fit_transform(data)\n",
    "\n",
    "# Initialize KMeansCluster object\n",
    "kmeans = KMeansCluster(k=3, tol=0.0001, max_iter=300)\n",
    "\n",
    "# Fit model to data\n",
    "kmeans.fit(pd.DataFrame(X))\n",
    "\n",
    "# Predict cluster labels\n",
    "y_pred = kmeans.predict(X)\n",
    "\n",
    "# Calculate accuracy\n",
    "accuracy = kmeans.accuracy(labels.values.flatten(), y_pred)\n",
    "print(f\"Accuracy: {accuracy}\")\n",
    "\n",
    "# Run code 5 times using different starting points and calculate accuracy\n",
    "for i in range(5):\n",
    "    init_mu = np.random.rand(3, X.shape[1])\n",
    "    kmeans = KMeansCluster(k=3, tol=0.0001, max_iter=300)\n",
    "    kmeans.fit(pd.DataFrame(X), init_mu=init_mu)\n",
    "    y_pred = kmeans.predict(pd.DataFrame(X))\n",
    "    accuracy = kmeans.accuracy(labels.values.flatten(), y_pred)\n",
    "    print(f\"Accuracy {i+1}: {accuracy}\")\n",
    "\n",
    "# Use provided initial centres and report accuracy\n",
    "# init_mu = pd.read_csv('init_mu.csv', header=None).values"
   ]
  },
  {
   "cell_type": "code",
   "execution_count": 53,
   "id": "96334392-ff82-42d8-bcad-2b5c53ffe3a1",
   "metadata": {},
   "outputs": [
    {
     "name": "stdout",
     "output_type": "stream",
     "text": [
      "Accuracy using provided initial centres: 0.0\n"
     ]
    },
    {
     "name": "stderr",
     "output_type": "stream",
     "text": [
      "/tmp/ipykernel_12205/3738241316.py:46: DeprecationWarning: elementwise comparison failed; this will raise an error in the future.\n",
      "  return np.mean(y_true == y_pred)\n"
     ]
    }
   ],
   "source": [
    "import scipy.io\n",
    "mat = scipy.io.loadmat('./Q_4/init_mu.mat')\n",
    "kmeans = KMeansCluster(k=3, tol=0.0001, max_iter=300)\n",
    "kmeans.fit(pd.DataFrame(X), init_mu=init_mu)\n",
    "y_pred = kmeans.predict(pd.DataFrame(X))\n",
    "accuracy = kmeans.accuracy(labels.values.flatten(), y_pred)\n",
    "print(f\"Accuracy using provided initial centres: {accuracy}\")"
   ]
  },
  {
   "cell_type": "markdown",
   "id": "a19f33f0-9dfa-4875-98a5-6e4ac705157d",
   "metadata": {},
   "source": [
    "If you initialize the K-Means clustering algorithm with the true centers obtained after the true clustering, it is likely that the algorithm will converge to the same set of centers, as it considers the initial centers as the optimal centers to minimize the within-cluster variance. This is because the initial centers are already optimized based on the data distribution, so the K-Means algorithm will try to find the same set of centers during the clustering process\n",
    "2\n",
    ".\n",
    "However, it is essential to note that the K-Means algorithm is sensitive to the initial placement of centroids. Different initialization methods can lead to different convergence results\n",
    "1\n",
    ". While using the true centers from the previous clustering might seem like a good idea, it may not always result in the best clustering solution, as the algorithm is still dependent on the initial centroids.\n",
    "In summary, while using the true centers obtained after the true clustering might seem like a straightforward approach, it may not always lead to the best clustering results. The initial placement of centroids plays a crucial role in the convergence of the K-Means algorithm, and different initialization methods can lead to different results\n",
    "1\n",
    "2\n",
    "."
   ]
  },
  {
   "cell_type": "code",
   "execution_count": null,
   "id": "1fe2b579-fc17-4da5-a5d9-f85bc94a8331",
   "metadata": {},
   "outputs": [],
   "source": []
  }
 ],
 "metadata": {
  "kernelspec": {
   "display_name": "Python 3 (ipykernel)",
   "language": "python",
   "name": "python3"
  },
  "language_info": {
   "codemirror_mode": {
    "name": "ipython",
    "version": 3
   },
   "file_extension": ".py",
   "mimetype": "text/x-python",
   "name": "python",
   "nbconvert_exporter": "python",
   "pygments_lexer": "ipython3",
   "version": "3.10.12"
  }
 },
 "nbformat": 4,
 "nbformat_minor": 5
}
