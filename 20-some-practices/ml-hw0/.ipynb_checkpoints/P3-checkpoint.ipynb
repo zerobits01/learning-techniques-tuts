{
 "cells": [
  {
   "cell_type": "markdown",
   "id": "1a33ba2b-e8be-4311-893b-420b5c3ad5ad",
   "metadata": {},
   "source": [
    "# 3.a)"
   ]
  },
  {
   "cell_type": "code",
   "execution_count": 1,
   "id": "e4125f3c-ae6c-4bb8-83d6-22620e6ea0e9",
   "metadata": {},
   "outputs": [],
   "source": [
    "import numpy as np\n",
    "import pandas as pd\n",
    "import seaborn as sns\n",
    "import math\n",
    "import matplotlib.pyplot as plt\n",
    "from sklearn.neighbors import KNeighborsClassifier\n",
    "from sklearn.metrics import confusion_matrix, classification_report\n",
    "from sklearn.preprocessing import StandardScaler, LabelEncoder\n",
    "from sklearn.model_selection import train_test_split, GridSearchCV"
   ]
  },
  {
   "cell_type": "code",
   "execution_count": 2,
   "id": "1bfe2e9c-25ee-4fd4-860b-ea47d3d3a79c",
   "metadata": {},
   "outputs": [],
   "source": [
    "df = pd.read_csv('./hw2/p3/P3.csv')"
   ]
  },
  {
   "cell_type": "code",
   "execution_count": 7,
   "id": "0aed6b71-ece8-48ca-a6ca-672f35a0db01",
   "metadata": {},
   "outputs": [
    {
     "data": {
      "text/html": [
       "<div>\n",
       "<style scoped>\n",
       "    .dataframe tbody tr th:only-of-type {\n",
       "        vertical-align: middle;\n",
       "    }\n",
       "\n",
       "    .dataframe tbody tr th {\n",
       "        vertical-align: top;\n",
       "    }\n",
       "\n",
       "    .dataframe thead th {\n",
       "        text-align: right;\n",
       "    }\n",
       "</style>\n",
       "<table border=\"1\" class=\"dataframe\">\n",
       "  <thead>\n",
       "    <tr style=\"text-align: right;\">\n",
       "      <th></th>\n",
       "      <th>f1</th>\n",
       "      <th>f2</th>\n",
       "      <th>f3</th>\n",
       "      <th>f4</th>\n",
       "      <th>f5</th>\n",
       "      <th>f6</th>\n",
       "      <th>f7</th>\n",
       "      <th>f8</th>\n",
       "      <th>f9</th>\n",
       "      <th>f10</th>\n",
       "      <th>f11</th>\n",
       "      <th>f12</th>\n",
       "      <th>f13</th>\n",
       "      <th>f14</th>\n",
       "      <th>f15</th>\n",
       "      <th>label</th>\n",
       "    </tr>\n",
       "  </thead>\n",
       "  <tbody>\n",
       "    <tr>\n",
       "      <th>0</th>\n",
       "      <td>0.140023</td>\n",
       "      <td>0.265418</td>\n",
       "      <td>-0.535880</td>\n",
       "      <td>0.808262</td>\n",
       "      <td>-0.998551</td>\n",
       "      <td>1.147053</td>\n",
       "      <td>0.979441</td>\n",
       "      <td>0.722351</td>\n",
       "      <td>0.559936</td>\n",
       "      <td>0.399382</td>\n",
       "      <td>1.098400</td>\n",
       "      <td>0.036805</td>\n",
       "      <td>1.302542</td>\n",
       "      <td>-0.239813</td>\n",
       "      <td>0.625914</td>\n",
       "      <td>0.0</td>\n",
       "    </tr>\n",
       "    <tr>\n",
       "      <th>1</th>\n",
       "      <td>1.176099</td>\n",
       "      <td>1.690023</td>\n",
       "      <td>-0.737042</td>\n",
       "      <td>1.207350</td>\n",
       "      <td>-1.249740</td>\n",
       "      <td>-0.921881</td>\n",
       "      <td>0.065195</td>\n",
       "      <td>-0.581772</td>\n",
       "      <td>0.645254</td>\n",
       "      <td>-0.089174</td>\n",
       "      <td>-1.571598</td>\n",
       "      <td>0.633757</td>\n",
       "      <td>0.636572</td>\n",
       "      <td>1.233946</td>\n",
       "      <td>-0.300362</td>\n",
       "      <td>1.0</td>\n",
       "    </tr>\n",
       "    <tr>\n",
       "      <th>2</th>\n",
       "      <td>1.322751</td>\n",
       "      <td>0.635943</td>\n",
       "      <td>0.012525</td>\n",
       "      <td>0.027479</td>\n",
       "      <td>0.083267</td>\n",
       "      <td>0.447982</td>\n",
       "      <td>1.158902</td>\n",
       "      <td>1.177922</td>\n",
       "      <td>0.887521</td>\n",
       "      <td>0.018378</td>\n",
       "      <td>-0.395321</td>\n",
       "      <td>0.451929</td>\n",
       "      <td>0.744254</td>\n",
       "      <td>-0.492224</td>\n",
       "      <td>-0.316476</td>\n",
       "      <td>1.0</td>\n",
       "    </tr>\n",
       "    <tr>\n",
       "      <th>3</th>\n",
       "      <td>0.907289</td>\n",
       "      <td>-0.475599</td>\n",
       "      <td>-1.270970</td>\n",
       "      <td>1.837189</td>\n",
       "      <td>-2.471438</td>\n",
       "      <td>1.270536</td>\n",
       "      <td>-0.536260</td>\n",
       "      <td>-0.852590</td>\n",
       "      <td>0.778421</td>\n",
       "      <td>0.362119</td>\n",
       "      <td>-1.111151</td>\n",
       "      <td>0.153531</td>\n",
       "      <td>-0.342588</td>\n",
       "      <td>-0.147104</td>\n",
       "      <td>-0.585484</td>\n",
       "      <td>0.0</td>\n",
       "    </tr>\n",
       "    <tr>\n",
       "      <th>4</th>\n",
       "      <td>0.809604</td>\n",
       "      <td>1.039083</td>\n",
       "      <td>0.869025</td>\n",
       "      <td>-1.204626</td>\n",
       "      <td>1.756469</td>\n",
       "      <td>0.318814</td>\n",
       "      <td>-2.582921</td>\n",
       "      <td>-1.493409</td>\n",
       "      <td>-1.221354</td>\n",
       "      <td>0.435062</td>\n",
       "      <td>-0.068407</td>\n",
       "      <td>0.942154</td>\n",
       "      <td>0.329038</td>\n",
       "      <td>0.375319</td>\n",
       "      <td>-0.843292</td>\n",
       "      <td>1.0</td>\n",
       "    </tr>\n",
       "  </tbody>\n",
       "</table>\n",
       "</div>"
      ],
      "text/plain": [
       "         f1        f2        f3        f4        f5        f6        f7  \\\n",
       "0  0.140023  0.265418 -0.535880  0.808262 -0.998551  1.147053  0.979441   \n",
       "1  1.176099  1.690023 -0.737042  1.207350 -1.249740 -0.921881  0.065195   \n",
       "2  1.322751  0.635943  0.012525  0.027479  0.083267  0.447982  1.158902   \n",
       "3  0.907289 -0.475599 -1.270970  1.837189 -2.471438  1.270536 -0.536260   \n",
       "4  0.809604  1.039083  0.869025 -1.204626  1.756469  0.318814 -2.582921   \n",
       "\n",
       "         f8        f9       f10       f11       f12       f13       f14  \\\n",
       "0  0.722351  0.559936  0.399382  1.098400  0.036805  1.302542 -0.239813   \n",
       "1 -0.581772  0.645254 -0.089174 -1.571598  0.633757  0.636572  1.233946   \n",
       "2  1.177922  0.887521  0.018378 -0.395321  0.451929  0.744254 -0.492224   \n",
       "3 -0.852590  0.778421  0.362119 -1.111151  0.153531 -0.342588 -0.147104   \n",
       "4 -1.493409 -1.221354  0.435062 -0.068407  0.942154  0.329038  0.375319   \n",
       "\n",
       "        f15  label  \n",
       "0  0.625914    0.0  \n",
       "1 -0.300362    1.0  \n",
       "2 -0.316476    1.0  \n",
       "3 -0.585484    0.0  \n",
       "4 -0.843292    1.0  "
      ]
     },
     "execution_count": 7,
     "metadata": {},
     "output_type": "execute_result"
    }
   ],
   "source": [
    "df.head()\n",
    "# df.drop(['Unnamed: 0'],axis=1, inplace=True)"
   ]
  },
  {
   "cell_type": "code",
   "execution_count": 9,
   "id": "76579797-74ad-4e79-a390-8a3662bcf822",
   "metadata": {},
   "outputs": [],
   "source": [
    "for col in df.columns:\n",
    "    if df[col].dtype.kind in 'biufc' and col!='stroke': # replace stroke with its mode value\n",
    "        df[col].fillna(df[col].median(), inplace=True)\n",
    "    else:\n",
    "        df[col].fillna(df[col].mode(), inplace=True)\n",
    "\n",
    "for col in df.columns:\n",
    "    if df[col].dtype.kind not in 'biufc':\n",
    "        df[col] = LabelEncoder().fit_transform(df[col].values.reshape(-1, 1))\n",
    "\n",
    "for col in df.columns:\n",
    "    if df[col].dtype.kind in 'biufc' and col!='stroke':\n",
    "        df[col] = StandardScaler().fit_transform(df[col].values.reshape(-1,1))"
   ]
  },
  {
   "cell_type": "code",
   "execution_count": 10,
   "id": "65b691d6-6088-4f83-bfe8-60379c10b425",
   "metadata": {},
   "outputs": [],
   "source": [
    "X_train, X_test, y_train, y_test = train_test_split(df.drop(['label'], axis=1), df['label'], test_size=0.1) #, stratify=y, random_state=42)"
   ]
  },
  {
   "cell_type": "markdown",
   "id": "552c8294-9f72-4649-a69e-d43ef8b3347e",
   "metadata": {},
   "source": [
    "# 3.b) implementation"
   ]
  },
  {
   "cell_type": "code",
   "execution_count": 22,
   "id": "1afae39e-9155-4fde-982d-5f8bafba4fc8",
   "metadata": {},
   "outputs": [],
   "source": [
    "def distance(p, q, w):\n",
    "    return math.sqrt(sum(w[i] * (p[i] - q[i])**2 for i in range(len(p))))\n",
    "\n",
    "class WeightedKNN:\n",
    "    def __init__(self, k, distance_func, weights=None):\n",
    "        self.k = k\n",
    "        if weights is None:\n",
    "            self.weights = np.zeros(self.k)\n",
    "            # self.weights = np.ones(self.k)\n",
    "        else:\n",
    "            self.weights = weights\n",
    "        self.distance_func = distance_func\n",
    "\n",
    "    def fit(self, X_train, y_train):\n",
    "        self.X_train = X_train\n",
    "        self.y_train = y_train\n",
    "\n",
    "    def predict(self, X_test):\n",
    "        y_pred = []\n",
    "        k = self.k\n",
    "        for i in range(len(X_test)):\n",
    "            distances = []\n",
    "            for j in range(len(X_train)):\n",
    "                d = self.distance_func(self.X_train.values[j], X_test.values[i], self.weights)\n",
    "                distances.append((d, y_train.values[j]))\n",
    "            distances.sort()\n",
    "            neighbors = distances[:k]\n",
    "            classes = {}\n",
    "            for n in neighbors:\n",
    "                if n[1] in classes:\n",
    "                    classes[n[1]] += 1\n",
    "                else:\n",
    "                    classes[n[1]] = 1\n",
    "            y_pred.append(max(classes, key=classes.get))\n",
    "        return y_pred"
   ]
  },
  {
   "cell_type": "markdown",
   "id": "39f46dca-8dd2-4ff7-84be-61357e526e51",
   "metadata": {},
   "source": [
    "# 3.c)\n",
    "i dont understand this part to find the best weights we have to do the prediction\n",
    "\n",
    "and find the best prediction weights that we have used which is not compatible with this question i think!!!"
   ]
  },
  {
   "cell_type": "markdown",
   "id": "bb126690-ca08-416d-805e-f1705a1f5ee3",
   "metadata": {},
   "source": [
    "# 3.d)"
   ]
  },
  {
   "cell_type": "code",
   "execution_count": 25,
   "id": "f81fbbd2-25e4-49e7-b016-ae7b31f5c50e",
   "metadata": {},
   "outputs": [],
   "source": [
    "weights_list = [ np.zeros(15), np.ones(15), 2*np.ones(15)]\n",
    "best_wights = {}\n",
    "K = 3\n",
    "for weights in weights_list:\n",
    "    knn = WeightedKNN(k=K, distance_func=distance, weights=weights)\n",
    "    knn.fit(X_train, y_train)\n",
    "    y_pred = knn.predict(X_test)\n",
    "    accuracy = sum(y_pred == y_test) / len(y_pred)\n",
    "    best_wights[str(weights)] = accuracy"
   ]
  },
  {
   "cell_type": "code",
   "execution_count": 26,
   "id": "3df35aed-7ab9-45b3-b533-522359ca366e",
   "metadata": {},
   "outputs": [
    {
     "data": {
      "text/plain": [
       "{'[0. 0. 0. 0. 0. 0. 0. 0. 0. 0. 0. 0. 0. 0. 0.]': 0.5666666666666667,\n",
       " '[1. 1. 1. 1. 1. 1. 1. 1. 1. 1. 1. 1. 1. 1. 1.]': 0.9,\n",
       " '[2. 2. 2. 2. 2. 2. 2. 2. 2. 2. 2. 2. 2. 2. 2.]': 0.9}"
      ]
     },
     "execution_count": 26,
     "metadata": {},
     "output_type": "execute_result"
    }
   ],
   "source": [
    "best_wights"
   ]
  },
  {
   "cell_type": "markdown",
   "id": "90d920df-7f2b-4d2e-b1a3-6eed114d6bbf",
   "metadata": {},
   "source": [
    "# 3.e) choosing 8 subsets of size 5"
   ]
  },
  {
   "cell_type": "code",
   "execution_count": 27,
   "id": "fc9e4e6e-4e66-4ff4-8d35-5e3f7ebfae5d",
   "metadata": {},
   "outputs": [],
   "source": [
    "features = list(df.columns)"
   ]
  },
  {
   "cell_type": "code",
   "execution_count": 31,
   "id": "8895ff8c-02c5-49ae-9212-d3ea6c5d967a",
   "metadata": {},
   "outputs": [
    {
     "name": "stdout",
     "output_type": "stream",
     "text": [
      "['f15', 'f4', 'f1', 'f9', 'f6']\n",
      "['f12', 'f10', 'f9', 'f5', 'f3']\n",
      "['f5', 'f4', 'f9', 'f3', 'f14']\n",
      "['f5', 'f6', 'f15', 'f10', 'f14']\n",
      "['f15', 'f2', 'f9', 'f7', 'f4']\n",
      "['f1', 'f9', 'f11', 'f5', 'f6']\n",
      "['f10', 'f3', 'f11', 'f9', 'f6']\n",
      "['f11', 'f1', 'f12', 'f13', 'f10']\n"
     ]
    }
   ],
   "source": [
    "import random\n",
    "\n",
    "# Select 8 random subsets of features, each with a size of 5\n",
    "subsets = []\n",
    "for i in range(8):\n",
    "    subset = random.sample(features[:-1], 5)\n",
    "    subsets.append(subset)\n",
    "\n",
    "# Print the subsets\n",
    "for subset in subsets:\n",
    "    print(subset)"
   ]
  },
  {
   "cell_type": "markdown",
   "id": "282bc9e3-5c0c-40b2-b54f-e740b98ad481",
   "metadata": {},
   "source": [
    "#### enough-good weights are 1, ..., 1"
   ]
  },
  {
   "cell_type": "code",
   "execution_count": 32,
   "id": "aac49581-d462-4508-b56c-7d5d5b45be2f",
   "metadata": {},
   "outputs": [],
   "source": [
    "for subset in subsets:\n",
    "    X_train, X_test, y_train, y_test = train_test_split(df.loc[:, subset], df['label'], test_size=0.1)\n",
    "    weights = np.ones(len(subset))\n",
    "    knn = WeightedKNN(k=K, distance_func=distance, weights=weights)\n",
    "    knn.fit(X_train, y_train)\n",
    "    y_pred = knn.predict(X_test)\n",
    "    accuracy = sum(y_pred == y_test) / len(y_pred)\n",
    "    best_wights[str(subset)] = accuracy"
   ]
  },
  {
   "cell_type": "code",
   "execution_count": 33,
   "id": "b40b1c2e-4e89-4322-a9b1-5b1ee340d483",
   "metadata": {},
   "outputs": [
    {
     "data": {
      "text/plain": [
       "{'[0. 0. 0. 0. 0. 0. 0. 0. 0. 0. 0. 0. 0. 0. 0.]': 0.5666666666666667,\n",
       " '[1. 1. 1. 1. 1. 1. 1. 1. 1. 1. 1. 1. 1. 1. 1.]': 0.9,\n",
       " '[2. 2. 2. 2. 2. 2. 2. 2. 2. 2. 2. 2. 2. 2. 2.]': 0.9,\n",
       " \"['f15', 'f4', 'f1', 'f9', 'f6']\": 0.5666666666666667,\n",
       " \"['f12', 'f10', 'f9', 'f5', 'f3']\": 0.6666666666666666,\n",
       " \"['f5', 'f4', 'f9', 'f3', 'f14']\": 0.7,\n",
       " \"['f5', 'f6', 'f15', 'f10', 'f14']\": 0.5666666666666667,\n",
       " \"['f15', 'f2', 'f9', 'f7', 'f4']\": 0.7,\n",
       " \"['f1', 'f9', 'f11', 'f5', 'f6']\": 0.43333333333333335,\n",
       " \"['f10', 'f3', 'f11', 'f9', 'f6']\": 0.6666666666666666,\n",
       " \"['f11', 'f1', 'f12', 'f13', 'f10']\": 0.5}"
      ]
     },
     "execution_count": 33,
     "metadata": {},
     "output_type": "execute_result"
    }
   ],
   "source": [
    "best_wights"
   ]
  },
  {
   "cell_type": "markdown",
   "id": "b2c6b64a-1b8c-4dc3-bc38-d5871773a7aa",
   "metadata": {},
   "source": [
    "### here we go, its done"
   ]
  },
  {
   "cell_type": "code",
   "execution_count": null,
   "id": "9052719a-5aec-47f1-9bd2-5da23a0ed622",
   "metadata": {},
   "outputs": [],
   "source": []
  }
 ],
 "metadata": {
  "kernelspec": {
   "display_name": "Python 3 (ipykernel)",
   "language": "python",
   "name": "python3"
  },
  "language_info": {
   "codemirror_mode": {
    "name": "ipython",
    "version": 3
   },
   "file_extension": ".py",
   "mimetype": "text/x-python",
   "name": "python",
   "nbconvert_exporter": "python",
   "pygments_lexer": "ipython3",
   "version": "3.10.12"
  }
 },
 "nbformat": 4,
 "nbformat_minor": 5
}
