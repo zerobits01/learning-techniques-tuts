{
 "cells": [
  {
   "cell_type": "markdown",
   "id": "110a96f9-d432-42f9-aee3-fbbc4da8fcf4",
   "metadata": {},
   "source": [
    "# 2)\n",
    "this is about to important most useful utilities for next parts"
   ]
  },
  {
   "cell_type": "code",
   "execution_count": 71,
   "id": "8055b6f0-9e4f-4e36-aad3-22d272547dc6",
   "metadata": {},
   "outputs": [],
   "source": [
    "import numpy as np\n",
    "import pandas as pd\n",
    "import seaborn as sns\n",
    "import matplotlib.pyplot as plt\n",
    "from sklearn.neighbors import KNeighborsClassifier\n",
    "from sklearn.tree import DecisionTreeClassifier\n",
    "from sklearn.metrics import confusion_matrix, classification_report\n",
    "from sklearn.preprocessing import StandardScaler, LabelEncoder\n",
    "from sklearn.model_selection import train_test_split, GridSearchCV"
   ]
  },
  {
   "cell_type": "markdown",
   "id": "b700a05c-3e73-4408-814d-42f13a1a60e1",
   "metadata": {},
   "source": [
    "# 2.a) loading the dataset\n",
    "and checking some basic info"
   ]
  },
  {
   "cell_type": "code",
   "execution_count": 72,
   "id": "4912bc26-8ba5-4287-a0c7-3c97b8ce02ba",
   "metadata": {},
   "outputs": [],
   "source": [
    "df = pd.read_csv('./hw2/p2/stroke.csv')"
   ]
  },
  {
   "cell_type": "code",
   "execution_count": 73,
   "id": "2ed406f1-20dc-4305-ba7b-5e6ddb5ef848",
   "metadata": {},
   "outputs": [
    {
     "data": {
      "text/html": [
       "<div>\n",
       "<style scoped>\n",
       "    .dataframe tbody tr th:only-of-type {\n",
       "        vertical-align: middle;\n",
       "    }\n",
       "\n",
       "    .dataframe tbody tr th {\n",
       "        vertical-align: top;\n",
       "    }\n",
       "\n",
       "    .dataframe thead th {\n",
       "        text-align: right;\n",
       "    }\n",
       "</style>\n",
       "<table border=\"1\" class=\"dataframe\">\n",
       "  <thead>\n",
       "    <tr style=\"text-align: right;\">\n",
       "      <th></th>\n",
       "      <th>gender</th>\n",
       "      <th>age</th>\n",
       "      <th>hypertension</th>\n",
       "      <th>heart_disease</th>\n",
       "      <th>ever_married</th>\n",
       "      <th>work_type</th>\n",
       "      <th>Residence_type</th>\n",
       "      <th>avg_glucose_level</th>\n",
       "      <th>bmi</th>\n",
       "      <th>smoking_status</th>\n",
       "      <th>stroke</th>\n",
       "    </tr>\n",
       "  </thead>\n",
       "  <tbody>\n",
       "    <tr>\n",
       "      <th>0</th>\n",
       "      <td>Male</td>\n",
       "      <td>67.0</td>\n",
       "      <td>0</td>\n",
       "      <td>1</td>\n",
       "      <td>Yes</td>\n",
       "      <td>Private</td>\n",
       "      <td>Urban</td>\n",
       "      <td>228.69</td>\n",
       "      <td>36.6</td>\n",
       "      <td>formerly smoked</td>\n",
       "      <td>1</td>\n",
       "    </tr>\n",
       "    <tr>\n",
       "      <th>1</th>\n",
       "      <td>Female</td>\n",
       "      <td>61.0</td>\n",
       "      <td>0</td>\n",
       "      <td>0</td>\n",
       "      <td>Yes</td>\n",
       "      <td>Self-employed</td>\n",
       "      <td>Rural</td>\n",
       "      <td>202.21</td>\n",
       "      <td>NaN</td>\n",
       "      <td>never smoked</td>\n",
       "      <td>1</td>\n",
       "    </tr>\n",
       "    <tr>\n",
       "      <th>2</th>\n",
       "      <td>Male</td>\n",
       "      <td>80.0</td>\n",
       "      <td>0</td>\n",
       "      <td>1</td>\n",
       "      <td>Yes</td>\n",
       "      <td>Private</td>\n",
       "      <td>Rural</td>\n",
       "      <td>105.92</td>\n",
       "      <td>32.5</td>\n",
       "      <td>never smoked</td>\n",
       "      <td>1</td>\n",
       "    </tr>\n",
       "    <tr>\n",
       "      <th>3</th>\n",
       "      <td>Female</td>\n",
       "      <td>49.0</td>\n",
       "      <td>0</td>\n",
       "      <td>0</td>\n",
       "      <td>Yes</td>\n",
       "      <td>Private</td>\n",
       "      <td>Urban</td>\n",
       "      <td>171.23</td>\n",
       "      <td>34.4</td>\n",
       "      <td>smokes</td>\n",
       "      <td>1</td>\n",
       "    </tr>\n",
       "    <tr>\n",
       "      <th>4</th>\n",
       "      <td>Female</td>\n",
       "      <td>79.0</td>\n",
       "      <td>1</td>\n",
       "      <td>0</td>\n",
       "      <td>Yes</td>\n",
       "      <td>Self-employed</td>\n",
       "      <td>Rural</td>\n",
       "      <td>174.12</td>\n",
       "      <td>24.0</td>\n",
       "      <td>never smoked</td>\n",
       "      <td>1</td>\n",
       "    </tr>\n",
       "  </tbody>\n",
       "</table>\n",
       "</div>"
      ],
      "text/plain": [
       "   gender   age  hypertension  heart_disease ever_married      work_type  \\\n",
       "0    Male  67.0             0              1          Yes        Private   \n",
       "1  Female  61.0             0              0          Yes  Self-employed   \n",
       "2    Male  80.0             0              1          Yes        Private   \n",
       "3  Female  49.0             0              0          Yes        Private   \n",
       "4  Female  79.0             1              0          Yes  Self-employed   \n",
       "\n",
       "  Residence_type  avg_glucose_level   bmi   smoking_status  stroke  \n",
       "0          Urban             228.69  36.6  formerly smoked       1  \n",
       "1          Rural             202.21   NaN     never smoked       1  \n",
       "2          Rural             105.92  32.5     never smoked       1  \n",
       "3          Urban             171.23  34.4           smokes       1  \n",
       "4          Rural             174.12  24.0     never smoked       1  "
      ]
     },
     "execution_count": 73,
     "metadata": {},
     "output_type": "execute_result"
    }
   ],
   "source": [
    "df.head(5)"
   ]
  },
  {
   "cell_type": "code",
   "execution_count": 74,
   "id": "a00ad829-4849-4a6f-ba6b-e4dad6d44bba",
   "metadata": {},
   "outputs": [
    {
     "name": "stderr",
     "output_type": "stream",
     "text": [
      "/tmp/ipykernel_17738/1214047907.py:1: FutureWarning: The default value of numeric_only in DataFrame.corr is deprecated. In a future version, it will default to False. Select only valid columns or specify the value of numeric_only to silence this warning.\n",
      "  corr_mat = df.corr()\n"
     ]
    }
   ],
   "source": [
    "corr_mat = df.corr()"
   ]
  },
  {
   "cell_type": "code",
   "execution_count": 75,
   "id": "96140cb4-e983-4010-aad7-05f579ff4de1",
   "metadata": {},
   "outputs": [
    {
     "data": {
      "text/plain": [
       "<Axes: >"
      ]
     },
     "execution_count": 75,
     "metadata": {},
     "output_type": "execute_result"
    },
    {
     "data": {
      "image/png": "[encoded data removed]",
      "text/plain": [
       "<Figure size 640x480 with 2 Axes>"
      ]
     },
     "metadata": {},
     "output_type": "display_data"
    }
   ],
   "source": [
    "sns.heatmap(corr_mat, annot=True, cmap='coolwarm')"
   ]
  },
  {
   "cell_type": "markdown",
   "id": "c2d36baf-5773-4dee-b3ea-6c82e6b556d6",
   "metadata": {},
   "source": [
    "i think the most important part is the last row\n",
    "\n",
    "which shows the stroke correlation with other features\n",
    "as it seems stroke is highly correlated(in comparision to others) to age and heart_diseas which is normal\n",
    "\n",
    "as we know the 1 correlations are related to each feature with itself which has the highest value / correlation of other features can be checked but based on our problem it doesnt matter if they have correlation or not(maybe it can be good for feature selection or maybe for checking linear dependency)"
   ]
  },
  {
   "cell_type": "code",
   "execution_count": 76,
   "id": "0ed1e40f-94fe-4fed-bee3-8864fd88ef10",
   "metadata": {},
   "outputs": [
    {
     "name": "stdout",
     "output_type": "stream",
     "text": [
      "0    44114\n",
      "1      830\n",
      "Name: stroke, dtype: int64\n"
     ]
    }
   ],
   "source": [
    "# Check for class imbalance\n",
    "print(df['stroke'].value_counts())"
   ]
  },
  {
   "cell_type": "markdown",
   "id": "a01c2fc2-a8bc-4cf4-bb05-1f85451832e2",
   "metadata": {},
   "source": [
    "# 2.b)\n",
    "this is about preprocessing \n",
    "\n",
    "i usually do:\n",
    "1. handling missing values(replacing nulls with mean in numerical / replacing most common label in label modes)\n",
    "2. scaling the data or normalizing it\n",
    "\n",
    "\n",
    "standard manner for doing some of preprocessing parts like standardization is to do it after train test split\n",
    "because we fit standardscaler based on train dataset and transform both train and test sets"
   ]
  },
  {
   "cell_type": "code",
   "execution_count": 77,
   "id": "0ffdd4e4-7976-4f4b-8d29-cac296023917",
   "metadata": {},
   "outputs": [
    {
     "name": "stderr",
     "output_type": "stream",
     "text": [
      "/home/zerobits01/.ids_tff/lib/python3.10/site-packages/sklearn/preprocessing/_label.py:114: DataConversionWarning: A column-vector y was passed when a 1d array was expected. Please change the shape of y to (n_samples, ), for example using ravel().\n",
      "  y = column_or_1d(y, warn=True)\n",
      "/home/zerobits01/.ids_tff/lib/python3.10/site-packages/sklearn/preprocessing/_label.py:114: DataConversionWarning: A column-vector y was passed when a 1d array was expected. Please change the shape of y to (n_samples, ), for example using ravel().\n",
      "  y = column_or_1d(y, warn=True)\n",
      "/home/zerobits01/.ids_tff/lib/python3.10/site-packages/sklearn/preprocessing/_label.py:114: DataConversionWarning: A column-vector y was passed when a 1d array was expected. Please change the shape of y to (n_samples, ), for example using ravel().\n",
      "  y = column_or_1d(y, warn=True)\n",
      "/home/zerobits01/.ids_tff/lib/python3.10/site-packages/sklearn/preprocessing/_label.py:114: DataConversionWarning: A column-vector y was passed when a 1d array was expected. Please change the shape of y to (n_samples, ), for example using ravel().\n",
      "  y = column_or_1d(y, warn=True)\n",
      "/home/zerobits01/.ids_tff/lib/python3.10/site-packages/sklearn/preprocessing/_label.py:114: DataConversionWarning: A column-vector y was passed when a 1d array was expected. Please change the shape of y to (n_samples, ), for example using ravel().\n",
      "  y = column_or_1d(y, warn=True)\n"
     ]
    }
   ],
   "source": [
    "for col in df.columns:\n",
    "    if df[col].dtype.kind not in 'biufc':\n",
    "        df[col] = LabelEncoder().fit_transform(df[col].values.reshape(-1, 1))"
   ]
  },
  {
   "cell_type": "code",
   "execution_count": 78,
   "id": "725d0b0c-9ec5-4908-9b1b-7586429434c0",
   "metadata": {},
   "outputs": [],
   "source": [
    "for col in df.columns:\n",
    "    if df[col].dtype.kind in 'biufc' and col!='stroke': # replace stroke with its mode value\n",
    "        df[col].fillna(df[col].median(), inplace=True)\n",
    "    else:\n",
    "        df[col].fillna(df[col].mode(), inplace=True)"
   ]
  },
  {
   "cell_type": "code",
   "execution_count": 79,
   "id": "8f1e90ba-e27a-4237-a9a5-3e5bf635fb02",
   "metadata": {},
   "outputs": [],
   "source": [
    "for col in df.columns:\n",
    "    if df[col].dtype.kind in 'biufc' and col!='stroke':\n",
    "        df[col] = StandardScaler().fit_transform(df[col].values.reshape(-1,1))"
   ]
  },
  {
   "cell_type": "code",
   "execution_count": 80,
   "id": "b2aba1be-57e3-48a9-abe0-5da89da3beea",
   "metadata": {},
   "outputs": [
    {
     "data": {
      "text/html": [
       "<div>\n",
       "<style scoped>\n",
       "    .dataframe tbody tr th:only-of-type {\n",
       "        vertical-align: middle;\n",
       "    }\n",
       "\n",
       "    .dataframe tbody tr th {\n",
       "        vertical-align: top;\n",
       "    }\n",
       "\n",
       "    .dataframe thead th {\n",
       "        text-align: right;\n",
       "    }\n",
       "</style>\n",
       "<table border=\"1\" class=\"dataframe\">\n",
       "  <thead>\n",
       "    <tr style=\"text-align: right;\">\n",
       "      <th></th>\n",
       "      <th>gender</th>\n",
       "      <th>age</th>\n",
       "      <th>hypertension</th>\n",
       "      <th>heart_disease</th>\n",
       "      <th>ever_married</th>\n",
       "      <th>work_type</th>\n",
       "      <th>Residence_type</th>\n",
       "      <th>avg_glucose_level</th>\n",
       "      <th>bmi</th>\n",
       "      <th>smoking_status</th>\n",
       "      <th>stroke</th>\n",
       "    </tr>\n",
       "  </thead>\n",
       "  <tbody>\n",
       "    <tr>\n",
       "      <th>0</th>\n",
       "      <td>1.196897</td>\n",
       "      <td>1.109078</td>\n",
       "      <td>-0.317384</td>\n",
       "      <td>4.505605</td>\n",
       "      <td>0.756646</td>\n",
       "      <td>-0.185477</td>\n",
       "      <td>0.997067</td>\n",
       "      <td>2.898304</td>\n",
       "      <td>1.059109</td>\n",
       "      <td>-1.278161</td>\n",
       "      <td>1</td>\n",
       "    </tr>\n",
       "    <tr>\n",
       "      <th>1</th>\n",
       "      <td>-0.833807</td>\n",
       "      <td>0.844949</td>\n",
       "      <td>-0.317384</td>\n",
       "      <td>-0.221946</td>\n",
       "      <td>0.756646</td>\n",
       "      <td>0.721802</td>\n",
       "      <td>-1.002941</td>\n",
       "      <td>2.281242</td>\n",
       "      <td>-0.101366</td>\n",
       "      <td>-0.427228</td>\n",
       "      <td>1</td>\n",
       "    </tr>\n",
       "    <tr>\n",
       "      <th>2</th>\n",
       "      <td>1.196897</td>\n",
       "      <td>1.681360</td>\n",
       "      <td>-0.317384</td>\n",
       "      <td>4.505605</td>\n",
       "      <td>0.756646</td>\n",
       "      <td>-0.185477</td>\n",
       "      <td>-1.002941</td>\n",
       "      <td>0.037400</td>\n",
       "      <td>0.524508</td>\n",
       "      <td>-0.427228</td>\n",
       "      <td>1</td>\n",
       "    </tr>\n",
       "    <tr>\n",
       "      <th>3</th>\n",
       "      <td>-0.833807</td>\n",
       "      <td>0.316689</td>\n",
       "      <td>-0.317384</td>\n",
       "      <td>-0.221946</td>\n",
       "      <td>0.756646</td>\n",
       "      <td>-0.185477</td>\n",
       "      <td>0.997067</td>\n",
       "      <td>1.559316</td>\n",
       "      <td>0.772250</td>\n",
       "      <td>0.423706</td>\n",
       "      <td>1</td>\n",
       "    </tr>\n",
       "    <tr>\n",
       "      <th>4</th>\n",
       "      <td>-0.833807</td>\n",
       "      <td>1.637338</td>\n",
       "      <td>3.150762</td>\n",
       "      <td>-0.221946</td>\n",
       "      <td>0.756646</td>\n",
       "      <td>0.721802</td>\n",
       "      <td>-1.002941</td>\n",
       "      <td>1.626662</td>\n",
       "      <td>-0.583810</td>\n",
       "      <td>-0.427228</td>\n",
       "      <td>1</td>\n",
       "    </tr>\n",
       "  </tbody>\n",
       "</table>\n",
       "</div>"
      ],
      "text/plain": [
       "     gender       age  hypertension  heart_disease  ever_married  work_type  \\\n",
       "0  1.196897  1.109078     -0.317384       4.505605      0.756646  -0.185477   \n",
       "1 -0.833807  0.844949     -0.317384      -0.221946      0.756646   0.721802   \n",
       "2  1.196897  1.681360     -0.317384       4.505605      0.756646  -0.185477   \n",
       "3 -0.833807  0.316689     -0.317384      -0.221946      0.756646  -0.185477   \n",
       "4 -0.833807  1.637338      3.150762      -0.221946      0.756646   0.721802   \n",
       "\n",
       "   Residence_type  avg_glucose_level       bmi  smoking_status  stroke  \n",
       "0        0.997067           2.898304  1.059109       -1.278161       1  \n",
       "1       -1.002941           2.281242 -0.101366       -0.427228       1  \n",
       "2       -1.002941           0.037400  0.524508       -0.427228       1  \n",
       "3        0.997067           1.559316  0.772250        0.423706       1  \n",
       "4       -1.002941           1.626662 -0.583810       -0.427228       1  "
      ]
     },
     "execution_count": 80,
     "metadata": {},
     "output_type": "execute_result"
    }
   ],
   "source": [
    "df.head()"
   ]
  },
  {
   "cell_type": "markdown",
   "id": "8c01debc-1fef-42ab-ba01-a9bdc7a20e8f",
   "metadata": {},
   "source": [
    "# 2.c)\n",
    "checking the bias in dataset \n",
    "\n",
    "we have to check the dataset that whether it has biased values for a specific feature\n",
    "\n",
    "or in a higher level whether if the dataset has completely biased labels"
   ]
  },
  {
   "cell_type": "code",
   "execution_count": 81,
   "id": "21b22ca8-4301-42c0-8bea-6665a4de519d",
   "metadata": {},
   "outputs": [
    {
     "name": "stdout",
     "output_type": "stream",
     "text": [
      "gender\n",
      "-0.833807    0.017207\n",
      " 1.196897    0.020291\n",
      " 3.227602    0.000000\n",
      "Name: stroke, dtype: float64\n",
      "age\n",
      "-1.836849    0.000000\n",
      "-1.833328    0.000000\n",
      "-1.829806    0.000000\n",
      "-1.826284    0.000000\n",
      "-1.822762    0.000000\n",
      "               ...   \n",
      " 1.593316    0.085754\n",
      " 1.637338    0.110420\n",
      " 1.681360    0.093525\n",
      " 1.725381    0.096360\n",
      " 1.769403    0.083333\n",
      "Name: stroke, Length: 104, dtype: float64\n",
      "hypertension\n",
      "-0.317384    0.015331\n",
      " 3.150762    0.049599\n",
      "Name: stroke, dtype: float64\n",
      "heart_disease\n",
      "-0.221946    0.015058\n",
      " 4.505605    0.087678\n",
      "Name: stroke, dtype: float64\n",
      "work_type\n",
      "-2.000035    0.017440\n",
      "-1.092756    0.000000\n",
      "-0.185477    0.018450\n",
      " 0.721802    0.037272\n",
      " 1.629081    0.000590\n",
      "Name: stroke, dtype: float64\n"
     ]
    }
   ],
   "source": [
    "# Check for demographic bias\n",
    "print(df.groupby('gender')['stroke'].mean())\n",
    "print(df.groupby('age')['stroke'].mean())\n",
    "print(df.groupby('hypertension')['stroke'].mean())\n",
    "print(df.groupby('heart_disease')['stroke'].mean())\n",
    "print(df.groupby('work_type')['stroke'].mean())"
   ]
  },
  {
   "cell_type": "code",
   "execution_count": 82,
   "id": "11a7f93c-00a4-41ea-bce5-901485e36b16",
   "metadata": {},
   "outputs": [
    {
     "name": "stdout",
     "output_type": "stream",
     "text": [
      "gender     stroke\n",
      "-0.833807  0         26045\n",
      "           1           456\n",
      " 1.196897  0         18058\n",
      "           1           374\n",
      " 3.227602  0            11\n",
      "Name: stroke, dtype: int64\n",
      "age        stroke\n",
      "-1.836849  0          19\n",
      "-1.833328  0          29\n",
      "-1.829806  0          55\n",
      "-1.826284  0          58\n",
      "-1.822762  0          37\n",
      "                    ... \n",
      " 1.681360  1          52\n",
      " 1.725381  0         422\n",
      "           1          45\n",
      " 1.769403  0         407\n",
      "           1          37\n",
      "Name: stroke, Length: 159, dtype: int64\n",
      "hypertension  stroke\n",
      "-0.317384     0         40205\n",
      "              1           626\n",
      " 3.150762     0          3909\n",
      "              1           204\n",
      "Name: stroke, dtype: int64\n",
      "heart_disease  stroke\n",
      "-0.221946      0         42189\n",
      "               1           645\n",
      " 4.505605      0          1925\n",
      "               1           185\n",
      "Name: stroke, dtype: int64\n",
      "work_type  stroke\n",
      "-2.000035  0          5465\n",
      "           1            97\n",
      "-1.092756  0           185\n",
      "-0.185477  0         25004\n",
      "           1           470\n",
      " 0.721802  0          6690\n",
      "           1           259\n",
      " 1.629081  0          6770\n",
      "           1             4\n",
      "Name: stroke, dtype: int64\n"
     ]
    }
   ],
   "source": [
    "print(df.groupby('gender')['stroke'].value_counts())\n",
    "print(df.groupby('age')['stroke'].value_counts())\n",
    "print(df.groupby('hypertension')['stroke'].value_counts())\n",
    "print(df.groupby('heart_disease')['stroke'].value_counts())\n",
    "print(df.groupby('work_type')['stroke'].value_counts())"
   ]
  },
  {
   "cell_type": "markdown",
   "id": "93fb88e2-6a5c-4831-b0de-b75ddd0a70b4",
   "metadata": {},
   "source": [
    "# 2.d) partitioning the dataset into three parts"
   ]
  },
  {
   "cell_type": "code",
   "execution_count": 85,
   "id": "fcce9bf7-310a-4216-9b94-1eb44034dc66",
   "metadata": {},
   "outputs": [],
   "source": [
    "# Split the dataset into training and test sets, stratifying by the target variable\n",
    "# X_train, X_test, y_train, y_test = train_test_split(df.drop('stroke', axis=1), df['stroke'], test_size=0.2, stratify=df['stroke'], random_state=42)\n",
    "\n",
    "# Split the training set into training and validation sets, stratifying by the target variable\n",
    "# X_train, X_val, y_train, y_val = train_test_split(X_train, y_train, test_size=0.2, stratify=y_train, random_state=42)\n",
    "\n",
    "\n",
    "def equivalent_split(df):\n",
    "\n",
    "    ones  = df[df['stroke'] == 1]\n",
    "    zeros = df[df['stroke'] == 0]\n",
    "\n",
    "    ones_X = ones.drop(['stroke'], axis=1)\n",
    "    ones_y = ones['stroke']\n",
    "    zeros_X= zeros.drop(['stroke'], axis=1)\n",
    "    zeros_y= zeros['stroke']\n",
    "\n",
    "    X_train = pd.concat([\n",
    "        ones_X[0:int(0.6*len(ones_X))],\n",
    "        zeros_X[0:int(0.6*len(zeros_X))]\n",
    "    ])\n",
    "    X_val   = pd.concat([\n",
    "        ones_X[int(0.6*len(ones_X)):int(0.8*len(ones_X))],\n",
    "        zeros_X[int(0.6*len(zeros_X)):int(0.8*len(zeros_X))]\n",
    "    ])\n",
    "    X_test  = pd.concat([\n",
    "        ones_X[int(0.8*len(ones_X)):-1],\n",
    "        zeros_X[int(0.8*len(zeros_X)):-1]\n",
    "    ])\n",
    "    y_train = pd.concat([\n",
    "        ones_y[0:int(0.6*len(ones_y))],\n",
    "        zeros_y[0:int(0.6*len(zeros_y))]\n",
    "    ])\n",
    "    y_val   = pd.concat([\n",
    "        ones_y[int(0.6*len(ones_y)):int(0.8*len(ones_y))],\n",
    "        zeros_y[int(0.6*len(zeros_y)):int(0.8*len(zeros_y))]\n",
    "    ])\n",
    "    y_test  = pd.concat([\n",
    "        ones_y[int(0.8*len(ones_y)):-1],\n",
    "        zeros_y[int(0.8*len(zeros_y)):-1]\n",
    "    ])\n",
    "    \n",
    "    return X_train, X_val, X_test, y_train, y_val, y_test\n",
    "\n",
    "X_train, X_val, X_test, y_train, y_val, y_test = equivalent_split(df)"
   ]
  },
  {
   "cell_type": "markdown",
   "id": "05cca1e3-03cb-41b3-b8cf-80fa0b6de25a",
   "metadata": {},
   "source": [
    "# 2.e)"
   ]
  },
  {
   "cell_type": "code",
   "execution_count": 86,
   "id": "953f6a03-86b6-4734-8a0e-8753b1675454",
   "metadata": {},
   "outputs": [
    {
     "name": "stdout",
     "output_type": "stream",
     "text": [
      "Best hyperparameters: {'n_neighbors': 8}\n",
      "Validation score: 0.9815693808168501\n",
      "Test score: 0.981640146878825\n"
     ]
    }
   ],
   "source": [
    "# Defining my KNN model\n",
    "knn = KNeighborsClassifier()\n",
    "\n",
    "# Defining my hyperparams to find the best mode with gridsearch\n",
    "param_grid = {'n_neighbors': range(1, 21)}\n",
    "\n",
    "# Tuning the hyper param\n",
    "grid_search = GridSearchCV(knn, param_grid, cv=5, scoring='accuracy')\n",
    "grid_search.fit(X_train, y_train)\n",
    "\n",
    "\n",
    "print('Best hyperparameters:', grid_search.best_params_)\n",
    "print('Validation score:', grid_search.best_score_)\n",
    "\n",
    "knn_best = KNeighborsClassifier(n_neighbors=grid_search.best_params_['n_neighbors'])\n",
    "knn_best.fit(X_train, y_train)\n",
    "test_score = knn_best.score(X_test, y_test)\n",
    "print('Test score:', test_score)"
   ]
  },
  {
   "cell_type": "code",
   "execution_count": 87,
   "id": "c0b85234-681e-488f-80ff-13c48cab0ff2",
   "metadata": {},
   "outputs": [
    {
     "name": "stdout",
     "output_type": "stream",
     "text": [
      "[[8822    0]\n",
      " [ 165    0]]\n",
      "              precision    recall  f1-score   support\n",
      "\n",
      "           0       0.98      1.00      0.99      8822\n",
      "           1       0.00      0.00      0.00       165\n",
      "\n",
      "    accuracy                           0.98      8987\n",
      "   macro avg       0.49      0.50      0.50      8987\n",
      "weighted avg       0.96      0.98      0.97      8987\n",
      "\n"
     ]
    },
    {
     "name": "stderr",
     "output_type": "stream",
     "text": [
      "/home/zerobits01/.ids_tff/lib/python3.10/site-packages/sklearn/metrics/_classification.py:1469: UndefinedMetricWarning: Precision and F-score are ill-defined and being set to 0.0 in labels with no predicted samples. Use `zero_division` parameter to control this behavior.\n",
      "  _warn_prf(average, modifier, msg_start, len(result))\n",
      "/home/zerobits01/.ids_tff/lib/python3.10/site-packages/sklearn/metrics/_classification.py:1469: UndefinedMetricWarning: Precision and F-score are ill-defined and being set to 0.0 in labels with no predicted samples. Use `zero_division` parameter to control this behavior.\n",
      "  _warn_prf(average, modifier, msg_start, len(result))\n",
      "/home/zerobits01/.ids_tff/lib/python3.10/site-packages/sklearn/metrics/_classification.py:1469: UndefinedMetricWarning: Precision and F-score are ill-defined and being set to 0.0 in labels with no predicted samples. Use `zero_division` parameter to control this behavior.\n",
      "  _warn_prf(average, modifier, msg_start, len(result))\n"
     ]
    }
   ],
   "source": [
    "y_pred_knn = knn_best.predict(X_test)\n",
    "\n",
    "knn_cm = confusion_matrix(y_pred=y_pred_knn, y_true=y_test)\n",
    "knn_report = classification_report(y_pred=y_pred_knn, y_true=y_test)\n",
    "print(knn_cm)\n",
    "print(knn_report)"
   ]
  },
  {
   "cell_type": "code",
   "execution_count": 88,
   "id": "72ca177f-0aa5-4f13-8eb9-dd852713fe74",
   "metadata": {},
   "outputs": [
    {
     "data": {
      "text/plain": [
       "0    8822\n",
       "1     165\n",
       "Name: stroke, dtype: int64"
      ]
     },
     "execution_count": 88,
     "metadata": {},
     "output_type": "execute_result"
    }
   ],
   "source": [
    "y_test.value_counts()"
   ]
  },
  {
   "cell_type": "markdown",
   "id": "2de0ba0a-c835-45a0-b7ca-464a52bd2c16",
   "metadata": {},
   "source": [
    "it seems the support value is not good for checking the result because it has mostly checked 0 label"
   ]
  },
  {
   "cell_type": "markdown",
   "id": "8b94a5c5-6294-4f86-8e0c-ecd7d836236c",
   "metadata": {},
   "source": [
    "# 2.f and 2.g) decision tree"
   ]
  },
  {
   "cell_type": "code",
   "execution_count": 69,
   "id": "715a57b4-e8a0-4153-9900-9490370d76e4",
   "metadata": {},
   "outputs": [
    {
     "name": "stdout",
     "output_type": "stream",
     "text": [
      "Best hyperparameters: {'max_depth': 1}\n",
      "Validation score: 0.98153942539987\n",
      "Test score: 0.9815329847591501\n"
     ]
    }
   ],
   "source": [
    "dt = DecisionTreeClassifier()\n",
    "# Define the hyperparameters to tune using GridSearchCV\n",
    "param_grid = {'max_depth': range(1, 21)}\n",
    "\n",
    "# Tune the hyperparameters using GridSearchCV and the elbow method\n",
    "grid_search = GridSearchCV(dt, param_grid, cv=5, scoring='accuracy')\n",
    "grid_search.fit(X_train, y_train)\n",
    "\n",
    "# Print the best hyperparameters and the corresponding validation score\n",
    "print('Best hyperparameters:', grid_search.best_params_)\n",
    "print('Validation score:', grid_search.best_score_)\n",
    "\n",
    "# Evaluate the model on the test set using the best hyperparameters\n",
    "dt_best = DecisionTreeClassifier(max_depth=grid_search.best_params_['max_depth'])\n",
    "dt_best.fit(X_train, y_train)\n",
    "test_score = dt_best.score(X_test, y_test)\n",
    "print('Test score:', test_score)"
   ]
  },
  {
   "cell_type": "code",
   "execution_count": 70,
   "id": "6c1f10d7-a1cd-44c2-89ac-edd1a5134bde",
   "metadata": {},
   "outputs": [
    {
     "name": "stdout",
     "output_type": "stream",
     "text": [
      "[[8823    0]\n",
      " [ 166    0]]\n",
      "              precision    recall  f1-score   support\n",
      "\n",
      "           0       0.98      1.00      0.99      8823\n",
      "           1       0.00      0.00      0.00       166\n",
      "\n",
      "    accuracy                           0.98      8989\n",
      "   macro avg       0.49      0.50      0.50      8989\n",
      "weighted avg       0.96      0.98      0.97      8989\n",
      "\n"
     ]
    },
    {
     "name": "stderr",
     "output_type": "stream",
     "text": [
      "/home/zerobits01/.ids_tff/lib/python3.10/site-packages/sklearn/metrics/_classification.py:1469: UndefinedMetricWarning: Precision and F-score are ill-defined and being set to 0.0 in labels with no predicted samples. Use `zero_division` parameter to control this behavior.\n",
      "  _warn_prf(average, modifier, msg_start, len(result))\n",
      "/home/zerobits01/.ids_tff/lib/python3.10/site-packages/sklearn/metrics/_classification.py:1469: UndefinedMetricWarning: Precision and F-score are ill-defined and being set to 0.0 in labels with no predicted samples. Use `zero_division` parameter to control this behavior.\n",
      "  _warn_prf(average, modifier, msg_start, len(result))\n",
      "/home/zerobits01/.ids_tff/lib/python3.10/site-packages/sklearn/metrics/_classification.py:1469: UndefinedMetricWarning: Precision and F-score are ill-defined and being set to 0.0 in labels with no predicted samples. Use `zero_division` parameter to control this behavior.\n",
      "  _warn_prf(average, modifier, msg_start, len(result))\n"
     ]
    }
   ],
   "source": [
    "y_pred_dt = dt_best.predict(X_test)\n",
    "\n",
    "dt_cm = confusion_matrix(y_pred=y_pred_dt, y_true=y_test)\n",
    "dt_report = classification_report(y_pred=y_pred_dt, y_true=y_test)\n",
    "print(dt_cm)\n",
    "print(dt_report)"
   ]
  },
  {
   "cell_type": "markdown",
   "id": "361e51be-a470-4964-b0ce-b4665a0945ce",
   "metadata": {},
   "source": [
    "h) Compare the performance of the two models and select the best performing model.\n",
    "\n",
    "we can compare accuracy for example\n",
    "\n",
    "i) Explain Which metric is more important in this problem, precision or recall? (why?)\n",
    "\n",
    "Based on the search results, precision and recall are both important metrics to consider when evaluating the performance of a machine learning model for stroke risk prediction. However, recall may be more important in this problem, as it is more critical to correctly identify individuals who are at risk of having a stroke, even if it means having a higher false positive rate\n",
    "\n",
    "\n",
    "j) Evaluate the performance of the best performing model on the test set using the\n",
    "accuracy and F1-score metrics, both in macro and micro stages.\n",
    "\n",
    "we have the results and we can talk about that\n"
   ]
  },
  {
   "cell_type": "markdown",
   "id": "184877d1-19ac-4e41-b4a6-57cf8290272d",
   "metadata": {},
   "source": [
    "# k) Discuss the different ways to deal with imbalanced data in classification problems.\n",
    "\n",
    "Apply one of these methods to improve the performance of the best performing model.\n",
    "\n",
    "oversampling is one technique that we can use"
   ]
  },
  {
   "cell_type": "code",
   "execution_count": 94,
   "id": "c86d195d-bb64-48c0-a97e-e3180750b992",
   "metadata": {},
   "outputs": [
    {
     "name": "stderr",
     "output_type": "stream",
     "text": [
      "/home/zerobits01/.ids_tff/lib/python3.10/site-packages/sklearn/preprocessing/_label.py:114: DataConversionWarning: A column-vector y was passed when a 1d array was expected. Please change the shape of y to (n_samples, ), for example using ravel().\n",
      "  y = column_or_1d(y, warn=True)\n",
      "/home/zerobits01/.ids_tff/lib/python3.10/site-packages/sklearn/preprocessing/_label.py:114: DataConversionWarning: A column-vector y was passed when a 1d array was expected. Please change the shape of y to (n_samples, ), for example using ravel().\n",
      "  y = column_or_1d(y, warn=True)\n",
      "/home/zerobits01/.ids_tff/lib/python3.10/site-packages/sklearn/preprocessing/_label.py:114: DataConversionWarning: A column-vector y was passed when a 1d array was expected. Please change the shape of y to (n_samples, ), for example using ravel().\n",
      "  y = column_or_1d(y, warn=True)\n",
      "/home/zerobits01/.ids_tff/lib/python3.10/site-packages/sklearn/preprocessing/_label.py:114: DataConversionWarning: A column-vector y was passed when a 1d array was expected. Please change the shape of y to (n_samples, ), for example using ravel().\n",
      "  y = column_or_1d(y, warn=True)\n",
      "/home/zerobits01/.ids_tff/lib/python3.10/site-packages/sklearn/preprocessing/_label.py:114: DataConversionWarning: A column-vector y was passed when a 1d array was expected. Please change the shape of y to (n_samples, ), for example using ravel().\n",
      "  y = column_or_1d(y, warn=True)\n"
     ]
    },
    {
     "name": "stdout",
     "output_type": "stream",
     "text": [
      "Best hyperparameters: {'max_depth': 20}\n",
      "Validation score: 0.9463573635342934\n",
      "Test score: 0.9209033262876849\n"
     ]
    }
   ],
   "source": [
    "from imblearn.over_sampling import SMOTE\n",
    "\n",
    "# Load the stroke dataset\n",
    "new_df = pd.read_csv('./hw2/p2/stroke.csv')\n",
    "\n",
    "for col in new_df.columns:\n",
    "    if new_df[col].dtype.kind in 'biufc' and col!='stroke': # replace stroke with its mode value\n",
    "        new_df[col].fillna(new_df[col].median(), inplace=True)\n",
    "    else:\n",
    "        new_df[col].fillna(new_df[col].mode(), inplace=True)\n",
    "\n",
    "for col in new_df.columns:\n",
    "    if new_df[col].dtype.kind not in 'biufc':\n",
    "        new_df[col] = LabelEncoder().fit_transform(new_df[col].values.reshape(-1, 1))\n",
    "\n",
    "# df.dropna()\n",
    "\n",
    "# Split the dataset into features and target\n",
    "X = new_df.drop('stroke', axis=1)\n",
    "y = new_df['stroke']\n",
    "\n",
    "# Split the dataset into training, validation, and test sets, stratifying by the target variable\n",
    "X_train, X_test, y_train, y_test = train_test_split(X, y, test_size=0.2, stratify=y, random_state=42)\n",
    "X_train, X_val, y_train, y_val = train_test_split(X_train, y_train, test_size=0.2, stratify=y_train, random_state=42)\n",
    "\n",
    "# Apply oversampling using SMOTE\n",
    "oversampler = SMOTE(random_state=42)\n",
    "X_train_oversampled, y_train_oversampled = oversampler.fit_resample(X_train, y_train)\n",
    "\n",
    "# Scale the features using StandardScaler\n",
    "scaler = StandardScaler()\n",
    "X_train_scaled = scaler.fit_transform(X_train_oversampled)\n",
    "X_val_scaled = scaler.transform(X_val)\n",
    "X_test_scaled = scaler.transform(X_test)\n",
    "\n",
    "# Define the decision tree model\n",
    "dt = DecisionTreeClassifier()\n",
    "\n",
    "# Define the hyperparameters to tune using GridSearchCV\n",
    "param_grid = {'max_depth': range(1, 21)}\n",
    "\n",
    "# Tune the hyperparameters using GridSearchCV and the elbow method\n",
    "grid_search = GridSearchCV(dt, param_grid, cv=5, scoring='accuracy')\n",
    "grid_search.fit(X_train_scaled, y_train_oversampled)\n",
    "\n",
    "# Print the best hyperparameters and the corresponding validation score\n",
    "print('Best hyperparameters:', grid_search.best_params_)\n",
    "print('Validation score:', grid_search.best_score_)\n",
    "\n",
    "# Evaluate the model on the test set using the best hyperparameters\n",
    "dt_best = DecisionTreeClassifier(max_depth=grid_search.best_params_['max_depth'])\n",
    "dt_best.fit(X_train_scaled, y_train_oversampled)\n",
    "test_score = dt_best.score(X_test_scaled, y_test)\n",
    "print('Test score:', test_score)"
   ]
  },
  {
   "cell_type": "code",
   "execution_count": 95,
   "id": "dd53ff7c-ca82-411f-bb7b-cad097d46c28",
   "metadata": {},
   "outputs": [
    {
     "name": "stdout",
     "output_type": "stream",
     "text": [
      "[[8241  582]\n",
      " [ 129   37]]\n",
      "              precision    recall  f1-score   support\n",
      "\n",
      "           0       0.98      0.93      0.96      8823\n",
      "           1       0.06      0.22      0.09       166\n",
      "\n",
      "    accuracy                           0.92      8989\n",
      "   macro avg       0.52      0.58      0.53      8989\n",
      "weighted avg       0.97      0.92      0.94      8989\n",
      "\n"
     ]
    }
   ],
   "source": [
    "y_pred_dt_os = dt_best.predict(X_test_scaled)\n",
    "\n",
    "dt_cm_os = confusion_matrix(y_pred=y_pred_dt_os, y_true=y_test)\n",
    "dt_report_os = classification_report(y_pred=y_pred_dt_os, y_true=y_test)\n",
    "print(dt_cm_os)\n",
    "print(dt_report_os)"
   ]
  },
  {
   "cell_type": "code",
   "execution_count": 97,
   "id": "4616f97e-109a-4696-842a-1a74b73179ee",
   "metadata": {},
   "outputs": [
    {
     "data": {
      "text/plain": [
       "0    8823\n",
       "1     166\n",
       "Name: stroke, dtype: int64"
      ]
     },
     "execution_count": 97,
     "metadata": {},
     "output_type": "execute_result"
    }
   ],
   "source": [
    "y_test.value_counts()"
   ]
  },
  {
   "cell_type": "markdown",
   "id": "0788ca65-4246-4f04-816e-2620373e312c",
   "metadata": {},
   "source": [
    "its getting better as it seems"
   ]
  },
  {
   "cell_type": "code",
   "execution_count": null,
   "id": "45b93f38-44ac-4a4a-bcfe-d985b25a8c48",
   "metadata": {},
   "outputs": [],
   "source": []
  }
 ],
 "metadata": {
  "kernelspec": {
   "display_name": "Python 3 (ipykernel)",
   "language": "python",
   "name": "python3"
  },
  "language_info": {
   "codemirror_mode": {
    "name": "ipython",
    "version": 3
   },
   "file_extension": ".py",
   "mimetype": "text/x-python",
   "name": "python",
   "nbconvert_exporter": "python",
   "pygments_lexer": "ipython3",
   "version": "3.10.12"
  }
 },
 "nbformat": 4,
 "nbformat_minor": 5
}
