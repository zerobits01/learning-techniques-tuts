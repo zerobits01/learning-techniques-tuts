{
 "cells": [
  {
   "cell_type": "markdown",
   "id": "63ee5636",
   "metadata": {},
   "source": [
    "# some basic info\n",
    "first we can create a dir \n",
    "then from top right we can use new item to create a nwe ipynb\n",
    "we can change the cell type to markdown to write more efficient comments and notes\n",
    "this is a good way for writing notes and implementing codes together\n",
    "\n",
    "for running a cell we can use shift+enter\n",
    "\n",
    "for installing new libs we can use this command:\n",
    "> conda install <_library>\n",
    "    \n",
    "also we can use pip and pip3 command\n",
    "    \n",
    "to start a new server => use the conda terminal:\n",
    "> jupyter notebook # in the target directory\n",
    "\n",
    "we can use 'a' and 'b' to create new cells above or below the selected cell\n",
    "\n",
    "we can use the 'tab' alt+tab to auto-complete and see the docstring\n",
    "\n",
    "also we can use ipython for testing things on beside and we can use the help function or dir function\n",
    "\n",
    "plan is such below:\n",
    "1. first finishing the course itself(beside university course and learning the theory)\n",
    "2. learning about the models in depth and how to save and retrain and change the model\n",
    "3. learning about FDL and federated learning\n",
    "(working on FDL for implementing new protocols based on blockchain or other technologies)\n",
    "\n",
    "i will use FDL for IDS or maybe some other usecases like IDS/IPS and etc\n",
    "i can use it for automated detection in SoC and such usecases\n",
    "\n",
    "lets go now!"
   ]
  },
  {
   "cell_type": "code",
   "execution_count": null,
   "id": "2d175d9a",
   "metadata": {},
   "outputs": [],
   "source": []
  }
 ],
 "metadata": {
  "kernelspec": {
   "display_name": "Python 3 (ipykernel)",
   "language": "python",
   "name": "python3"
  },
  "language_info": {
   "codemirror_mode": {
    "name": "ipython",
    "version": 3
   },
   "file_extension": ".py",
   "mimetype": "text/x-python",
   "name": "python",
   "nbconvert_exporter": "python",
   "pygments_lexer": "ipython3",
   "version": "3.9.12"
  }
 },
 "nbformat": 4,
 "nbformat_minor": 5
}
