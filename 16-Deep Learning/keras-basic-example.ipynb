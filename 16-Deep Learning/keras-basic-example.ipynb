{
 "cells": [
  {
   "cell_type": "markdown",
   "id": "994412cf",
   "metadata": {},
   "source": [
    "# The steps you will learn in this tutorial are as follows:\n",
    "\n",
    "1. Load Data\n",
    "2. Define Keras Model\n",
    "3. Compile Keras Model\n",
    "4. Fit Keras Model\n",
    "5. Evaluate Keras Model\n",
    "6. Tie It All Together\n",
    "7. Make Predictions\n"
   ]
  },
  {
   "cell_type": "markdown",
   "id": "515229db",
   "metadata": {},
   "source": [
    "> conda install theano\n",
    "\n",
    "> conda install -c conda-forge tensorflow\n",
    "\n",
    "> conda install keras # its accessible from ternsorflow too"
   ]
  },
  {
   "cell_type": "code",
   "execution_count": 1,
   "id": "20867991",
   "metadata": {},
   "outputs": [],
   "source": [
    "from numpy import loadtxt\n",
    "from tensorflow.keras.models import Sequential\n",
    "from tensorflow.keras.layers import Dense\n",
    "\n",
    "dataset = loadtxt('pima-indians-diabetes.csv', delimiter=',')\n",
    "# split into input (X) and output (y) variables\n",
    "X = dataset[:,0:8]\n",
    "y = dataset[:,8]\n",
    "\n"
   ]
  },
  {
   "cell_type": "markdown",
   "id": "dae1074d",
   "metadata": {},
   "source": [
    "Models in Keras are defined as a sequence of layers.\n",
    "\n",
    "We create a Sequential model and add layers one at a time until we are happy with our network architecture.\n",
    "\n",
    "The first thing to get right is to ensure the input layer has the correct number of input features. This can be specified when creating the first layer with the input_shape argument and setting it to (8,) for presenting the eight input variables as a vector.\n",
    "\n",
    "How do we know the number of layers and their types?\n",
    "\n",
    "This is a tricky question. There are heuristics that you can use, and often the best network structure is found through a process of trial and error experimentation (I explain more about this here). Generally, you need a network large enough to capture the structure of the problem.\n",
    "\n",
    "In this example, let’s use a fully-connected network structure with three layers.\n",
    "\n",
    "Fully connected layers are defined using the Dense class. You can specify the number of neurons or nodes in the layer as the first argument and the activation function using the activation argument.\n",
    "\n",
    "Also, you will use the rectified linear unit activation function referred to as ReLU on the first two layers and the Sigmoid function in the output layer.\n",
    "\n",
    "It used to be the case that Sigmoid and Tanh activation functions were preferred for all layers. These days, better performance is achieved using the ReLU activation function. Using a sigmoid on the output layer ensures your network output is between 0 and 1 and is easy to map to either a probability of class 1 or snap to a hard classification of either class with a default threshold of 0.5."
   ]
  },
  {
   "cell_type": "code",
   "execution_count": null,
   "id": "a448f26c",
   "metadata": {},
   "outputs": [],
   "source": [
    "model = Sequential()\n",
    "model.add(Dense(12, input_shape=(8,), activation='relu'))\n",
    "model.add(Dense(8, activation='relu'))\n",
    "model.add(Dense(1, activation='sigmoid'))"
   ]
  },
  {
   "cell_type": "code",
   "execution_count": null,
   "id": "8ac02150",
   "metadata": {},
   "outputs": [],
   "source": [
    "model.compile(loss='binary_crossentropy', optimizer='adam', metrics=['accuracy'])\n",
    "model.fit(X, y, epochs=150, batch_size=10)"
   ]
  },
  {
   "cell_type": "code",
   "execution_count": null,
   "id": "279d8ba6",
   "metadata": {},
   "outputs": [],
   "source": [
    "_, accuracy = model.evaluate(X, y)\n",
    "print('Accuracy: %.2f' % (accuracy*100))"
   ]
  },
  {
   "cell_type": "code",
   "execution_count": null,
   "id": "ca82fc69",
   "metadata": {},
   "outputs": [],
   "source": [
    "# make probability predictions with the model\n",
    "predictions = model.predict(X)\n",
    "# round predictions \n",
    "rounded = [round(x[0]) for x in predictions]\n",
    "# make class predictions with the model\n",
    "predictions = (model.predict(X) > 0.5).astype(int)"
   ]
  }
 ],
 "metadata": {
  "kernelspec": {
   "display_name": "Python 3 (ipykernel)",
   "language": "python",
   "name": "python3"
  },
  "language_info": {
   "codemirror_mode": {
    "name": "ipython",
    "version": 3
   },
   "file_extension": ".py",
   "mimetype": "text/x-python",
   "name": "python",
   "nbconvert_exporter": "python",
   "pygments_lexer": "ipython3",
   "version": "3.9.12"
  }
 },
 "nbformat": 4,
 "nbformat_minor": 5
}
